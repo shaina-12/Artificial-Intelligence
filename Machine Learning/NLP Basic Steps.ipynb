{
 "cells": [
  {
   "cell_type": "code",
   "execution_count": 1,
   "id": "b1f8853b",
   "metadata": {},
   "outputs": [],
   "source": [
    "import nltk\n",
    "from nltk.stem import PorterStemmer\n",
    "from nltk.corpus import stopwords"
   ]
  },
  {
   "cell_type": "code",
   "execution_count": 2,
   "id": "0528324c",
   "metadata": {},
   "outputs": [],
   "source": [
    "tweet = \"\"\"I’m amazed how often in practice, not only does a @huggingface NLP model solve your problem, but one of their public finetuned checkpoints, is good enough for the job. \n",
    "Both impressed, and a little disappointed how rarely I get to actually train a model that matters :(\"\"\""
   ]
  },
  {
   "cell_type": "code",
   "execution_count": 4,
   "id": "d8e0f31a",
   "metadata": {},
   "outputs": [
    {
     "name": "stdout",
     "output_type": "stream",
     "text": [
      "['I', '’', 'm', 'amazed', 'how', 'often', 'in', 'practice', ',', 'not', 'only', 'does', 'a', '@', 'huggingface', 'NLP', 'model', 'solve', 'your', 'problem', ',', 'but', 'one', 'of', 'their', 'public', 'finetuned', 'checkpoints', ',', 'is', 'good', 'enough', 'for', 'the', 'job', '.', 'Both', 'impressed', ',', 'and', 'a', 'little', 'disappointed', 'how', 'rarely', 'I', 'get', 'to', 'actually', 'train', 'a', 'model', 'that', 'matters', ':', '(']\n"
     ]
    }
   ],
   "source": [
    "# tokenization\n",
    "#nltk.download('punkt')\n",
    "tokens = nltk.word_tokenize(tweet)\n",
    "print(tokens)"
   ]
  },
  {
   "cell_type": "code",
   "execution_count": 8,
   "id": "48137c2a",
   "metadata": {},
   "outputs": [
    {
     "name": "stdout",
     "output_type": "stream",
     "text": [
      "['i', '’', 'm', 'amaz', 'how', 'often', 'in', 'practic', ',', 'not', 'onli', 'doe', 'a', '@', 'huggingfac', 'nlp', 'model', 'solv', 'your', 'problem', ',', 'but', 'one', 'of', 'their', 'public', 'finetun', 'checkpoint', ',', 'is', 'good', 'enough', 'for', 'the', 'job', '.', 'both', 'impress', ',', 'and', 'a', 'littl', 'disappoint', 'how', 'rare', 'i', 'get', 'to', 'actual', 'train', 'a', 'model', 'that', 'matter', ':', '(']\n"
     ]
    }
   ],
   "source": [
    "# stemming\n",
    "stemmed_words = []\n",
    "ps = PorterStemmer()\n",
    "for w in tokens:\n",
    "    stemmed_words.append(ps.stem(w))\n",
    "print(stemmed_words)"
   ]
  },
  {
   "cell_type": "code",
   "execution_count": 14,
   "id": "34549f79",
   "metadata": {},
   "outputs": [
    {
     "name": "stdout",
     "output_type": "stream",
     "text": [
      "['I', '’', 'm', 'amazed', 'how', 'often', 'in', 'practice', ',', 'not', 'only', 'doe', 'a', '@', 'huggingface', 'NLP', 'model', 'solve', 'your', 'problem', ',', 'but', 'one', 'of', 'their', 'public', 'finetuned', 'checkpoint', ',', 'is', 'good', 'enough', 'for', 'the', 'job', '.', 'Both', 'impressed', ',', 'and', 'a', 'little', 'disappointed', 'how', 'rarely', 'I', 'get', 'to', 'actually', 'train', 'a', 'model', 'that', 'matter', ':', '(']\n"
     ]
    }
   ],
   "source": [
    "# lemmatization\n",
    "from nltk.stem import WordNetLemmatizer\n",
    "lemmatized_words = []\n",
    "#nltk.download('wordnet')\n",
    "lemmatizer = WordNetLemmatizer()\n",
    "for w in tokens:\n",
    "    lemmatized_words.append(lemmatizer.lemmatize(w))\n",
    "print(lemmatized_words)"
   ]
  },
  {
   "cell_type": "code",
   "execution_count": 15,
   "id": "40ddbb02",
   "metadata": {},
   "outputs": [
    {
     "name": "stdout",
     "output_type": "stream",
     "text": [
      "['i', 'me', 'my', 'myself', 'we', 'our', 'ours', 'ourselves', 'you', \"you're\", \"you've\", \"you'll\", \"you'd\", 'your', 'yours', 'yourself', 'yourselves', 'he', 'him', 'his', 'himself', 'she', \"she's\", 'her', 'hers', 'herself', 'it', \"it's\", 'its', 'itself', 'they', 'them', 'their', 'theirs', 'themselves', 'what', 'which', 'who', 'whom', 'this', 'that', \"that'll\", 'these', 'those', 'am', 'is', 'are', 'was', 'were', 'be', 'been', 'being', 'have', 'has', 'had', 'having', 'do', 'does', 'did', 'doing', 'a', 'an', 'the', 'and', 'but', 'if', 'or', 'because', 'as', 'until', 'while', 'of', 'at', 'by', 'for', 'with', 'about', 'against', 'between', 'into', 'through', 'during', 'before', 'after', 'above', 'below', 'to', 'from', 'up', 'down', 'in', 'out', 'on', 'off', 'over', 'under', 'again', 'further', 'then', 'once']\n"
     ]
    }
   ],
   "source": [
    "# removal of stopwords\n",
    "#nltk.download('stopwords')\n",
    "stop_words = stopwords.words('english')\n",
    "print(stop_words[:100])"
   ]
  },
  {
   "cell_type": "code",
   "execution_count": 18,
   "id": "caefcec4",
   "metadata": {},
   "outputs": [
    {
     "name": "stdout",
     "output_type": "stream",
     "text": [
      "['’', 'amazed', 'often', 'practice', ',', '@', 'huggingface', 'nlp', 'model', 'solve', 'problem', ',', 'one', 'public', 'finetuned', 'checkpoints', ',', 'good', 'enough', 'job', '.', 'impressed', ',', 'little', 'disappointed', 'rarely', 'get', 'actually', 'train', 'model', 'matters', ':', '(']\n"
     ]
    }
   ],
   "source": [
    "stop_words=set(stop_words)\n",
    "tokens = [ word.lower() for word in tokens]\n",
    "tweet_no_stopwords = [word for word in tokens if word not in stop_words]\n",
    "print(tweet_no_stopwords)"
   ]
  },
  {
   "cell_type": "code",
   "execution_count": null,
   "id": "35f8d270",
   "metadata": {},
   "outputs": [],
   "source": []
  }
 ],
 "metadata": {
  "kernelspec": {
   "display_name": "Python 3 (ipykernel)",
   "language": "python",
   "name": "python3"
  },
  "language_info": {
   "codemirror_mode": {
    "name": "ipython",
    "version": 3
   },
   "file_extension": ".py",
   "mimetype": "text/x-python",
   "name": "python",
   "nbconvert_exporter": "python",
   "pygments_lexer": "ipython3",
   "version": "3.9.7"
  }
 },
 "nbformat": 4,
 "nbformat_minor": 5
}
