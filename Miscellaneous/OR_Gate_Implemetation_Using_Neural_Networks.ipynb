{
  "nbformat": 4,
  "nbformat_minor": 0,
  "metadata": {
    "colab": {
      "name": "OR Gate Implemetation Using Neural Networks.ipynb",
      "provenance": [],
      "authorship_tag": "ABX9TyNMsT48qj5w25CBCLHzUS42",
      "include_colab_link": true
    },
    "kernelspec": {
      "name": "python3",
      "display_name": "Python 3"
    },
    "language_info": {
      "name": "python"
    }
  },
  "cells": [
    {
      "cell_type": "markdown",
      "metadata": {
        "id": "view-in-github",
        "colab_type": "text"
      },
      "source": [
        "<a href=\"https://colab.research.google.com/github/shaina-12/Artificial-Intelligence/blob/main/Miscellaneous/OR_Gate_Implemetation_Using_Neural_Networks.ipynb\" target=\"_parent\"><img src=\"https://colab.research.google.com/assets/colab-badge.svg\" alt=\"Open In Colab\"/></a>"
      ]
    },
    {
      "cell_type": "code",
      "execution_count": 1,
      "metadata": {
        "id": "IfGceSFhCcJl"
      },
      "outputs": [],
      "source": [
        "import numpy as np"
      ]
    },
    {
      "cell_type": "code",
      "source": [
        "X = np.array([[0,0],[0,1],[1,0],[1,1]])\n",
        "print(X)"
      ],
      "metadata": {
        "colab": {
          "base_uri": "https://localhost:8080/"
        },
        "id": "XeIe_xcZDzVy",
        "outputId": "46768eb0-efcf-4468-b6f1-4cc5b6c538c1"
      },
      "execution_count": 2,
      "outputs": [
        {
          "output_type": "stream",
          "name": "stdout",
          "text": [
            "[[0 0]\n",
            " [0 1]\n",
            " [1 0]\n",
            " [1 1]]\n"
          ]
        }
      ]
    },
    {
      "cell_type": "code",
      "source": [
        "Y_target = np.array([[0],[1],[1],[1]])\n",
        "print(Y_target)"
      ],
      "metadata": {
        "colab": {
          "base_uri": "https://localhost:8080/"
        },
        "id": "OqPEpj6bDzYp",
        "outputId": "cf3038da-32cd-4857-a5b9-d8b23302359b"
      },
      "execution_count": 3,
      "outputs": [
        {
          "output_type": "stream",
          "name": "stdout",
          "text": [
            "[[0]\n",
            " [1]\n",
            " [1]\n",
            " [1]]\n"
          ]
        }
      ]
    },
    {
      "cell_type": "code",
      "source": [
        "W1 = np.array([[0.3,0.1,0.8],[0.1,0.3,0.2]])\n",
        "W2 = np.array([[0.7],[0.4],[0.9]])\n",
        "print(W1)\n",
        "print(W2)\n",
        "lr = 0.05"
      ],
      "metadata": {
        "id": "XUvniI2pntYx",
        "colab": {
          "base_uri": "https://localhost:8080/"
        },
        "outputId": "07c25d02-ecf8-4ae9-a69b-498430532380"
      },
      "execution_count": 4,
      "outputs": [
        {
          "output_type": "stream",
          "name": "stdout",
          "text": [
            "[[0.3 0.1 0.8]\n",
            " [0.1 0.3 0.2]]\n",
            "[[0.7]\n",
            " [0.4]\n",
            " [0.9]]\n"
          ]
        }
      ]
    },
    {
      "cell_type": "code",
      "source": [
        "def sigmoid(x):\n",
        "  return 1/(1+np.exp(-x))"
      ],
      "metadata": {
        "id": "G0VtK6VHDze7"
      },
      "execution_count": 5,
      "outputs": []
    },
    {
      "cell_type": "code",
      "source": [
        "def der_sigmoid(x):\n",
        "  return sigmoid(x)*(1-sigmoid(x))"
      ],
      "metadata": {
        "id": "-kt3jY8LDzii"
      },
      "execution_count": 6,
      "outputs": []
    },
    {
      "cell_type": "code",
      "source": [
        "for epoch in range(5000):\n",
        "  Z = np.dot(X,W1)\n",
        "  H = sigmoid(Z)\n",
        "  U = np.dot(H,W2)\n",
        "  Y = sigmoid(U)\n",
        "  E = Y - Y_target\n",
        "  L = 1/2*(np.power(E,2))\n",
        "  dL_dY = Y-Y_target\n",
        "  dY_dU = Y*(1-Y)\n",
        "  dU_dW2 = H\n",
        "  dL_dW2=np.dot(dU_dW2.T,dL_dY*dY_dU)\n",
        "  W2 -= lr*dL_dW2\n",
        "  dL_dY = Y-Y_target\n",
        "  dY_dU = Y*(1-Y)\n",
        "  dU_dH = W2\n",
        "  dH_dZ = H*(1-H)\n",
        "  dZ_dW1 = X\n",
        "  dL_dH = np.dot(dL_dY*dY_dU,dU_dH.T)\n",
        "  dL_dW1 = np.dot(dZ_dW1.T,dH_dZ*dL_dH)\n",
        "  W1 -= lr*dL_dW1\n",
        "print(W2)\n",
        "print(W1)"
      ],
      "metadata": {
        "colab": {
          "base_uri": "https://localhost:8080/"
        },
        "id": "8kxNQftcE81Z",
        "outputId": "f31767fd-3352-43a9-c126-a6c75d0dee6c"
      },
      "execution_count": 7,
      "outputs": [
        {
          "output_type": "stream",
          "name": "stdout",
          "text": [
            "[[ 0.21566808]\n",
            " [-5.20849898]\n",
            " [ 2.6683633 ]]\n",
            "[[ 1.24861965 -2.01751089  2.5598115 ]\n",
            " [ 1.17743832 -2.01913344  2.46129973]]\n"
          ]
        }
      ]
    },
    {
      "cell_type": "code",
      "source": [
        "point = np.array([0,0])\n",
        "z = np.dot(point,W1)\n",
        "h = sigmoid(z)\n",
        "op = np.dot(h,W2)\n",
        "y_cap = sigmoid(op)\n",
        "if (y_cap<0.5):\n",
        "  print(0)\n",
        "else:\n",
        "  print(1)"
      ],
      "metadata": {
        "colab": {
          "base_uri": "https://localhost:8080/"
        },
        "id": "_Qt0DNUCE83-",
        "outputId": "6018a913-941b-4611-d3b3-d5eef25d73d2"
      },
      "execution_count": 15,
      "outputs": [
        {
          "output_type": "stream",
          "name": "stdout",
          "text": [
            "0\n"
          ]
        }
      ]
    }
  ]
}