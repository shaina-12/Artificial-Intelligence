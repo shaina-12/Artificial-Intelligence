{
  "nbformat": 4,
  "nbformat_minor": 0,
  "metadata": {
    "colab": {
      "name": "XOR Gate Implemetation Using Neural Networks.ipynb",
      "provenance": [],
      "authorship_tag": "ABX9TyN0N3tM+O4d9rn2Qr+Hb8V1",
      "include_colab_link": true
    },
    "kernelspec": {
      "name": "python3",
      "display_name": "Python 3"
    },
    "language_info": {
      "name": "python"
    }
  },
  "cells": [
    {
      "cell_type": "markdown",
      "metadata": {
        "id": "view-in-github",
        "colab_type": "text"
      },
      "source": [
        "<a href=\"https://colab.research.google.com/github/shaina-12/Artificial-Intelligence/blob/main/Miscellaneous/XOR_Gate_Implemetation_Using_Neural_Networks.ipynb\" target=\"_parent\"><img src=\"https://colab.research.google.com/assets/colab-badge.svg\" alt=\"Open In Colab\"/></a>"
      ]
    },
    {
      "cell_type": "code",
      "execution_count": 25,
      "metadata": {
        "id": "dGhoj-nTreZG"
      },
      "outputs": [],
      "source": [
        "import numpy as np"
      ]
    },
    {
      "cell_type": "code",
      "source": [
        "X = np.array([[0,0],[0,1],[1,0],[1,1]])\n",
        "Y = np.array([[0],[1],[1],[0]])\n",
        "W1 = np.array([[0.3,0.1,0.8],[0.1,0.3,0.2]])\n",
        "W2 = np.array([[0.7],[0.4],[0.9]])\n",
        "print(W1)\n",
        "print(W2)\n",
        "lr = 0.1"
      ],
      "metadata": {
        "colab": {
          "base_uri": "https://localhost:8080/"
        },
        "id": "laXwqsUhSEyb",
        "outputId": "b9fe27d3-52c5-44da-b925-87b7136a5d60"
      },
      "execution_count": 35,
      "outputs": [
        {
          "output_type": "stream",
          "name": "stdout",
          "text": [
            "[[0.3 0.1 0.8]\n",
            " [0.1 0.3 0.2]]\n",
            "[[0.7]\n",
            " [0.4]\n",
            " [0.9]]\n"
          ]
        }
      ]
    },
    {
      "cell_type": "code",
      "source": [
        "def sigmoid(x):\n",
        "  return 1/(1+np.exp(-x))"
      ],
      "metadata": {
        "id": "XrQ--veQSVRV"
      },
      "execution_count": 36,
      "outputs": []
    },
    {
      "cell_type": "code",
      "source": [
        "for epoch in range(5000):\n",
        "  h = np.dot(X,W1)\n",
        "  hf = sigmoid(h)\n",
        "  y = np.dot(hf,W2)\n",
        "  yf = sigmoid(y)\n",
        "  E = yf - Y\n",
        "  L = 1/2*(np.power(E,2))\n",
        "  dL_dyf = (yf-Y) \n",
        "  dyf_dy = yf*(1-yf)\n",
        "  dy_dw2 = hf\n",
        "  dL_dw2 = np.dot(dy_dw2.T,dL_dyf*dyf_dy)\n",
        "  W2 -= lr*dL_dw2\n",
        "  dL_dyf = (yf-Y) \n",
        "  dyf_dy = yf*(1-yf)\n",
        "  dy_dhf = W2\n",
        "  dhf_dh = hf*(1-hf)\n",
        "  dh_dw1 = X\n",
        "  dL_dhf = np.dot(dL_dyf*dyf_dy,dy_dhf.T)\n",
        "  dL_dw1 = np.dot(dh_dw1.T,dhf_dh*dL_dhf)\n",
        "  W1 -= lr*dL_dw1\n",
        "print(W2)\n",
        "print(W1)"
      ],
      "metadata": {
        "colab": {
          "base_uri": "https://localhost:8080/"
        },
        "id": "wyHjzXIWSVTy",
        "outputId": "181fe78a-3803-46bd-89b4-2eb28ee26a7b"
      },
      "execution_count": 37,
      "outputs": [
        {
          "output_type": "stream",
          "name": "stdout",
          "text": [
            "[[-2.16646525]\n",
            " [-2.45007704]\n",
            " [ 3.47588354]]\n",
            "[[0.892635   0.29553927 3.38185385]\n",
            " [0.2553382  0.87200882 3.3657086 ]]\n"
          ]
        }
      ]
    },
    {
      "cell_type": "code",
      "source": [
        "point = np.array([0,0])\n",
        "z = np.dot(point,W1)\n",
        "h = sigmoid(z)\n",
        "op = np.dot(h,W2)\n",
        "y_cap = sigmoid(op)\n",
        "if (y_cap<0.5):\n",
        "  print(0)\n",
        "else:\n",
        "  print(1)"
      ],
      "metadata": {
        "colab": {
          "base_uri": "https://localhost:8080/"
        },
        "id": "zQ5ljmMTSVWY",
        "outputId": "8a558f6f-762a-4711-92a6-d0d08cd92472"
      },
      "execution_count": 47,
      "outputs": [
        {
          "output_type": "stream",
          "name": "stdout",
          "text": [
            "0\n"
          ]
        }
      ]
    },
    {
      "cell_type": "code",
      "source": [
        ""
      ],
      "metadata": {
        "id": "qfFWRUGjSVao"
      },
      "execution_count": null,
      "outputs": []
    },
    {
      "cell_type": "code",
      "source": [
        ""
      ],
      "metadata": {
        "id": "KnqqSdlwSVcr"
      },
      "execution_count": null,
      "outputs": []
    },
    {
      "cell_type": "code",
      "source": [
        ""
      ],
      "metadata": {
        "id": "ahFUj5TCSJXG"
      },
      "execution_count": null,
      "outputs": []
    },
    {
      "cell_type": "code",
      "source": [
        ""
      ],
      "metadata": {
        "id": "_QHJ_ut-SeEq"
      },
      "execution_count": null,
      "outputs": []
    }
  ]
}