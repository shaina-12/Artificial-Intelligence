{
  "nbformat": 4,
  "nbformat_minor": 0,
  "metadata": {
    "colab": {
      "name": "AND Gate Implemetation Using Neural Networks.ipynb",
      "provenance": [],
      "authorship_tag": "ABX9TyPR8mpa0AsFfx74leruyZfA",
      "include_colab_link": true
    },
    "kernelspec": {
      "name": "python3",
      "display_name": "Python 3"
    },
    "language_info": {
      "name": "python"
    }
  },
  "cells": [
    {
      "cell_type": "markdown",
      "metadata": {
        "id": "view-in-github",
        "colab_type": "text"
      },
      "source": [
        "<a href=\"https://colab.research.google.com/github/shaina-12/Artificial-Intelligence/blob/main/Miscellaneous/AND_Gate_Implemetation_Using_Neural_Networks.ipynb\" target=\"_parent\"><img src=\"https://colab.research.google.com/assets/colab-badge.svg\" alt=\"Open In Colab\"/></a>"
      ]
    },
    {
      "cell_type": "code",
      "execution_count": 66,
      "metadata": {
        "id": "uYlPTsg2rXP8"
      },
      "outputs": [],
      "source": [
        "import numpy as np"
      ]
    },
    {
      "cell_type": "code",
      "source": [
        "X = np.array([[0,0],[0,1],[1,0],[1,1]])\n",
        "Y = np.array([[0],[0],[0],[1]])\n",
        "W1 = np.array([[0.3,0.1,0.8],[0.1,0.3,0.2]])\n",
        "W2 = np.array([[0.7],[0.4],[0.9]])\n",
        "print(W1)\n",
        "print(W2)\n",
        "lr = 0.05"
      ],
      "metadata": {
        "colab": {
          "base_uri": "https://localhost:8080/"
        },
        "id": "ZfzJDY6HfCwL",
        "outputId": "0ae0a16b-307a-4712-9c44-b32d944fbb35"
      },
      "execution_count": 75,
      "outputs": [
        {
          "output_type": "stream",
          "name": "stdout",
          "text": [
            "[[0.3 0.1 0.8]\n",
            " [0.1 0.3 0.2]]\n",
            "[[0.7]\n",
            " [0.4]\n",
            " [0.9]]\n"
          ]
        }
      ]
    },
    {
      "cell_type": "code",
      "source": [
        "def sigmoid(x):\n",
        "  return 1/(1+np.exp(-x))\n",
        "def der_sigmoid(x):\n",
        "  return sigmoid(x)*(1-sigmoid(x))"
      ],
      "metadata": {
        "id": "3IexgyIFfC2V"
      },
      "execution_count": 76,
      "outputs": []
    },
    {
      "cell_type": "code",
      "source": [
        "for epoch in range(5000):\n",
        "  h = np.dot(X,W1)\n",
        "  hf = sigmoid(h)\n",
        "  y = np.dot(hf,W2)\n",
        "  yf = sigmoid(y)\n",
        "  E = yf - Y\n",
        "  L = 1/2*(np.power(E,2))\n",
        "  dL_dyf = (yf-Y) \n",
        "  dyf_dy = yf*(1-yf)\n",
        "  dy_dw2 = hf\n",
        "  dL_dw2 = np.dot(dy_dw2.T,dL_dyf*dyf_dy)\n",
        "  W2 -= lr*dL_dw2\n",
        "  dL_dyf = (yf-Y) \n",
        "  dyf_dy = yf*(1-yf)\n",
        "  dy_dhf = W2\n",
        "  dhf_dh = hf*(1-hf)\n",
        "  dh_dw1 = X\n",
        "  dL_dhf = np.dot(dL_dyf*dyf_dy,dy_dhf.T)\n",
        "  dL_dw1 = np.dot(dh_dw1.T,dhf_dh*dL_dhf)\n",
        "  W1 -= lr*dL_dw1\n",
        "print(W2)\n",
        "print(W1)"
      ],
      "metadata": {
        "colab": {
          "base_uri": "https://localhost:8080/"
        },
        "id": "w7XT_CIGqXmu",
        "outputId": "e0db533e-bcb0-4b32-e4c9-a4818e18133d"
      },
      "execution_count": 77,
      "outputs": [
        {
          "output_type": "stream",
          "name": "stdout",
          "text": [
            "[[-4.85123792]\n",
            " [-5.23514382]\n",
            " [ 2.27709934]]\n",
            "[[ 0.42707884 -2.23358713  1.65243032]\n",
            " [-2.71039994  0.02011962  0.38156451]]\n"
          ]
        }
      ]
    },
    {
      "cell_type": "code",
      "source": [
        "point = np.array([0,0])\n",
        "z = np.dot(point,W1)\n",
        "h = sigmoid(z)\n",
        "op = np.dot(h,W2)\n",
        "y_cap = sigmoid(op)\n",
        "if (y_cap<0.5):\n",
        "  print(0)\n",
        "else:\n",
        "  print(1)"
      ],
      "metadata": {
        "colab": {
          "base_uri": "https://localhost:8080/"
        },
        "id": "m1zKw5kbJse1",
        "outputId": "2d2a5ab8-f08c-4172-d692-9d90a8b4b781"
      },
      "execution_count": 86,
      "outputs": [
        {
          "output_type": "stream",
          "name": "stdout",
          "text": [
            "0\n"
          ]
        }
      ]
    },
    {
      "cell_type": "code",
      "source": [
        ""
      ],
      "metadata": {
        "id": "_p7nHcg7JsiK"
      },
      "execution_count": null,
      "outputs": []
    },
    {
      "cell_type": "code",
      "source": [
        ""
      ],
      "metadata": {
        "id": "bWc-IE5OJskx"
      },
      "execution_count": null,
      "outputs": []
    },
    {
      "cell_type": "code",
      "source": [
        ""
      ],
      "metadata": {
        "id": "lSTqe_CAJsmr"
      },
      "execution_count": null,
      "outputs": []
    },
    {
      "cell_type": "code",
      "source": [
        "import torch\n",
        "import torch.nn as nn\n",
        "m = nn.Softmax(dim=1)\n",
        "input = torch.randn(2, 3)\n",
        "output = m(input)"
      ],
      "metadata": {
        "id": "Un3Mo44ZBlbl"
      },
      "execution_count": 11,
      "outputs": []
    },
    {
      "cell_type": "code",
      "source": [
        "input"
      ],
      "metadata": {
        "colab": {
          "base_uri": "https://localhost:8080/"
        },
        "id": "ympfsZCUB1_0",
        "outputId": "1ba1239e-0805-47c5-9859-fcf34c0ff6a8"
      },
      "execution_count": 12,
      "outputs": [
        {
          "output_type": "execute_result",
          "data": {
            "text/plain": [
              "tensor([[-2.0798, -0.9833,  0.8541],\n",
              "        [ 0.1033, -0.0686,  2.4684]])"
            ]
          },
          "metadata": {},
          "execution_count": 12
        }
      ]
    },
    {
      "cell_type": "code",
      "source": [
        "output"
      ],
      "metadata": {
        "colab": {
          "base_uri": "https://localhost:8080/"
        },
        "id": "K8395OBpB3qW",
        "outputId": "817bc5c1-e38c-40b0-a62a-6e747e56badd"
      },
      "execution_count": 13,
      "outputs": [
        {
          "output_type": "execute_result",
          "data": {
            "text/plain": [
              "tensor([[0.0439, 0.1313, 0.8248],\n",
              "        [0.0801, 0.0674, 0.8525]])"
            ]
          },
          "metadata": {},
          "execution_count": 13
        }
      ]
    },
    {
      "cell_type": "code",
      "source": [
        "m"
      ],
      "metadata": {
        "colab": {
          "base_uri": "https://localhost:8080/"
        },
        "id": "buk86KJ0B905",
        "outputId": "a4713ab0-769d-4c62-d740-5da0bfb52511"
      },
      "execution_count": 14,
      "outputs": [
        {
          "output_type": "execute_result",
          "data": {
            "text/plain": [
              "Softmax(dim=1)"
            ]
          },
          "metadata": {},
          "execution_count": 14
        }
      ]
    }
  ]
}